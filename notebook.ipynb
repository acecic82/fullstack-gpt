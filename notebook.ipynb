{
 "cells": [
  {
   "cell_type": "code",
   "execution_count": 44,
   "metadata": {},
   "outputs": [
    {
     "name": "stdout",
     "output_type": "stream",
     "text": [
      "Here is what I know:\n",
      "        감독: 미미 레더\n",
      "        주요 출연진: 테일러 키취, 로버트 듀발, 테아 레오니\n",
      "        배급사: 파라마운트 픽처스\n",
      "        음악: 제임스 호너\n",
      "        영화의 장르: 재난, SF, 액션"
     ]
    },
    {
     "data": {
      "text/plain": [
       "AIMessageChunk(content='Here is what I know:\\n        감독: 미미 레더\\n        주요 출연진: 테일러 키취, 로버트 듀발, 테아 레오니\\n        배급사: 파라마운트 픽처스\\n        음악: 제임스 호너\\n        영화의 장르: 재난, SF, 액션')"
      ]
     },
     "execution_count": 44,
     "metadata": {},
     "output_type": "execute_result"
    }
   ],
   "source": [
    "from langchain.chat_models import ChatOpenAI\n",
    "from langchain.prompts.few_shot import FewShotChatMessagePromptTemplate\n",
    "from langchain.callbacks import StreamingStdOutCallbackHandler\n",
    "from langchain.prompts import ChatMessagePromptTemplate, ChatPromptTemplate\n",
    "\n",
    "chat = ChatOpenAI(\n",
    "    temperature=0.1,\n",
    "    streaming=True,\n",
    "    callbacks=[\n",
    "        StreamingStdOutCallbackHandler(),\n",
    "    ],\n",
    ")\n",
    "\n",
    "\n",
    "examples = [\n",
    "    {\n",
    "        \"영화이름\": \"2012\",\n",
    "        \"answer\": \"\"\"\n",
    "        Here is what I know:\n",
    "        감독: 롤랜드 에머리히\n",
    "        주요 출연진: 존 쿠삭, 추이텔, 예지오포, 아만다 피트, 올리버 플랫\n",
    "        배급사: 콜럼비아 픽처스\n",
    "        음악: 하랄드 클로저, 토마스 완커\n",
    "        영화의 장르: 재난, 액션, SF, 모험\n",
    "        \"\"\",\n",
    "    },\n",
    "    {\n",
    "        \"영화이름\": \"더 코어\",\n",
    "        \"answer\": \"\"\"\n",
    "        Here is what I know:\n",
    "        감독: 존 아미엘\n",
    "        주요 출연진: 에런 엑하트, 힐러리 스왱크\n",
    "        배급사: 파라마운트 픽처스\n",
    "        음악: 크리스토퍼 영\n",
    "        영화의 장르: 재난, 액션, SF, 모험\n",
    "        \"\"\",\n",
    "    },\n",
    "    {\n",
    "        \"영화이름\": \"아마겟돈\",\n",
    "        \"answer\": \"\"\"\n",
    "        Here is what I know:\n",
    "        감독: 마이클 베이\n",
    "        주요 출연진: 브루스 윌리스, 빌리 밥 손튼, 리브 타일러\n",
    "        배급사: 터치스톤 픽처스, 발할라 모션 픽쳐스, 제리 브룩하이머 필림스\n",
    "        음악: 트레버 레빈, 에어로스미스\n",
    "        영화의 장르: 재난, 액션, SF\n",
    "        \"\"\",\n",
    "    },\n",
    "]\n",
    "\n",
    "\n",
    "example_prompt = ChatPromptTemplate.from_messages(\n",
    "    [\n",
    "        (\"human\", \"What do you know about {영화이름}?\"),\n",
    "        (\"ai\", \"{answer}\"),\n",
    "    ]\n",
    ")\n",
    "\n",
    "example_prompt = FewShotChatMessagePromptTemplate(\n",
    "    example_prompt=example_prompt,\n",
    "    examples=examples,\n",
    ")\n",
    "\n",
    "final_prompt = ChatPromptTemplate.from_messages(\n",
    "    [\n",
    "        (\"system\", \"너는 영화에 관한 엄청난 전문가야. 모든 영화에 대한 자세한 정보를 알고 있어\"),\n",
    "        example_prompt,\n",
    "        (\"human\", \"What do you know about {영화이름}?\"),\n",
    "    ]\n",
    ")\n",
    "\n",
    "chain = final_prompt | chat\n",
    "\n",
    "chain.invoke({\"영화이름\": \"딥 임팩트\"})\n"
   ]
  }
 ],
 "metadata": {
  "kernelspec": {
   "display_name": "env",
   "language": "python",
   "name": "python3"
  },
  "language_info": {
   "codemirror_mode": {
    "name": "ipython",
    "version": 3
   },
   "file_extension": ".py",
   "mimetype": "text/x-python",
   "name": "python",
   "nbconvert_exporter": "python",
   "pygments_lexer": "ipython3",
   "version": "3.11.9"
  }
 },
 "nbformat": 4,
 "nbformat_minor": 2
}
